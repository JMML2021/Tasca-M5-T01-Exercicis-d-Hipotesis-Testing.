{
  "nbformat": 4,
  "nbformat_minor": 0,
  "metadata": {
    "colab": {
      "name": "Tasca M5 T01 Exercicis d'Hipotesis Testing.ipynb",
      "provenance": [],
      "authorship_tag": "ABX9TyObOWKdC9VxiuEj77KAFYi3",
      "include_colab_link": true
    },
    "kernelspec": {
      "name": "python3",
      "display_name": "Python 3"
    },
    "language_info": {
      "name": "python"
    }
  },
  "cells": [
    {
      "cell_type": "markdown",
      "metadata": {
        "id": "view-in-github",
        "colab_type": "text"
      },
      "source": [
        "<a href=\"https://colab.research.google.com/github/JMML2021/Tasca-M5-T01-Exercicis-d-Hipotesis-Testing./blob/main/Tasca_M5_T01_Exercicis_d'Hipotesis_Testing.ipynb\" target=\"_parent\"><img src=\"https://colab.research.google.com/assets/colab-badge.svg\" alt=\"Open In Colab\"/></a>"
      ]
    },
    {
      "cell_type": "code",
      "execution_count": null,
      "metadata": {
        "id": "w_anBJrZsdGp"
      },
      "outputs": [],
      "source": [
        ""
      ]
    },
    {
      "cell_type": "markdown",
      "source": [
        "#**Exercicis d'Hipotesis Testing.**\n",
        "\n",
        "\n",
        "\n",
        "## Exercici 1\n",
        "Descarrega el dataset adjunt de dades oficials de la UEFA i selecciona un atribut del conjunt de dades. Calcula el p-valor i digues si rebutja la hipòtesi nul·la agafant un alfa de 5%. "
      ],
      "metadata": {
        "id": "Zrm_KcnnsqDr"
      }
    },
    {
      "cell_type": "code",
      "source": [
        "+"
      ],
      "metadata": {
        "id": "prm82B1KsxGu"
      },
      "execution_count": null,
      "outputs": []
    },
    {
      "cell_type": "markdown",
      "source": [
        "State your research hypothesis as a null hypothesis and alternate hypothesis (Ho) and (Ha or H1).\n",
        "Collect data in a way designed to test the hypothesis.\n",
        "Perform an appropriate statistical test.\n",
        "Decide whether to reject or fail to reject your null hypothesis.\n",
        "Present the findings in your results and discussion section."
      ],
      "metadata": {
        "id": "I2rMGL94uBPE"
      }
    },
    {
      "cell_type": "markdown",
      "source": [
        "https://www.scribbr.com/statistics/hypothesis-testing/"
      ],
      "metadata": {
        "id": "62kVbVg7uVY8"
      }
    },
    {
      "cell_type": "code",
      "source": [
        "# Activo Google Drive\n",
        "\n",
        "from google.colab import drive\n",
        "drive.mount('/content/drive')"
      ],
      "metadata": {
        "id": "OadxC3hJuRNc"
      },
      "execution_count": null,
      "outputs": []
    },
    {
      "cell_type": "code",
      "source": [
        "import pandas as pd"
      ],
      "metadata": {
        "id": "kWPWHemhvERm"
      },
      "execution_count": 2,
      "outputs": []
    },
    {
      "cell_type": "code",
      "source": [
        "# Abro el fichero una vez adecuado\n",
        "\n",
        "#path='https://drive.google.com/file/d/1j8WdhTxMpngrUigfcfrJynng-9JHo9xa/view?usp=sharing'\n",
        "path = ('/content/drive/MyDrive/01_COLAB/Lligues europees UEFA.csv')\n",
        "#data = pd.read_csv(file,\n",
        "    \n",
        "df=  pd.read_csv(path, sep=';', encoding=\"latin-1\")\n",
        "df.shape\n",
        "\n",
        "nRow, nCol = df.shape\n",
        "print(f'Hay  {nRow} filas con {nCol} columnas')\n",
        "df1=df.copy()\n",
        "df1.iloc[0]"
      ],
      "metadata": {
        "colab": {
          "base_uri": "https://localhost:8080/"
        },
        "id": "ZQFimWBXuU2U",
        "outputId": "cb74a54b-e7e8-47be-ad0a-11650fd2e0a8"
      },
      "execution_count": 16,
      "outputs": [
        {
          "output_type": "stream",
          "name": "stdout",
          "text": [
            "Hay  98 filas con 21 columnas\n"
          ]
        },
        {
          "output_type": "execute_result",
          "data": {
            "text/plain": [
              "Rk                                    1\n",
              "Squad                   Manchester City\n",
              "Country                             ENG\n",
              "LgRk                                  1\n",
              "MP                                   37\n",
              "W                                    28\n",
              "D                                     6\n",
              "L                                     3\n",
              "GF                                   96\n",
              "GA                                   24\n",
              "GD                                   72\n",
              "Pts                                  90\n",
              "Pts/G                              2.43\n",
              "xG                                 86.1\n",
              "xGA                                26.8\n",
              "xGD                                59.3\n",
              "xGD/90                              1.6\n",
              "Last 5                        W W W W D\n",
              "Attendance                        52739\n",
              "Top Team Scorer    Kevin De Bruyne - 15\n",
              "Goalkeeper                      Ederson\n",
              "Name: 0, dtype: object"
            ]
          },
          "metadata": {},
          "execution_count": 16
        }
      ]
    },
    {
      "cell_type": "markdown",
      "source": [
        "![image.png](data:image/png;base64,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)"
      ],
      "metadata": {
        "id": "KfA2YL2-NcmF"
      }
    },
    {
      "cell_type": "code",
      "source": [
        "df1.describe()"
      ],
      "metadata": {
        "id": "gJtWoN3uwd6f",
        "outputId": "ba22769b-1b1b-4f89-fb10-8a0a34450d20",
        "colab": {
          "base_uri": "https://localhost:8080/",
          "height": 364
        }
      },
      "execution_count": 20,
      "outputs": [
        {
          "output_type": "execute_result",
          "data": {
            "text/plain": [
              "              Rk       LgRk         MP          W          D         L  \\\n",
              "count  98.000000  98.000000  98.000000  98.000000  98.000000  98.00000   \n",
              "mean   49.500000  10.316327  36.306122  13.448980   9.408163  13.44898   \n",
              "std    28.434134   5.706926   1.152390   5.747474   2.903381   5.12347   \n",
              "min     1.000000   1.000000  34.000000   3.000000   3.000000   2.00000   \n",
              "25%    25.250000   5.250000  36.000000   9.000000   7.000000  10.00000   \n",
              "50%    49.500000  10.000000  37.000000  13.000000   9.000000  13.00000   \n",
              "75%    73.750000  15.000000  37.000000  17.000000  11.000000  17.00000   \n",
              "max    98.000000  20.000000  37.000000  28.000000  16.000000  26.00000   \n",
              "\n",
              "              GF         GA         GD        Pts      Pts/G         xG  \\\n",
              "count  98.000000  98.000000  98.000000  98.000000  98.000000  98.000000   \n",
              "mean   50.877551  50.877551   0.000000  49.734694   1.370204  48.653061   \n",
              "std    16.102933  13.634602  26.501896  16.166371   0.443903  12.453950   \n",
              "min    23.000000  24.000000 -56.000000  18.000000   0.530000  28.200000   \n",
              "25%    39.000000  40.000000 -17.750000  37.000000   1.000000  39.100000   \n",
              "50%    47.000000  50.000000  -1.000000  46.000000   1.300000  46.450000   \n",
              "75%    60.000000  59.000000  17.250000  61.750000   1.695000  55.550000   \n",
              "max    97.000000  89.000000  72.000000  90.000000   2.430000  88.100000   \n",
              "\n",
              "             xGA        xGD     xGD/90    Attendance  \n",
              "count  98.000000  98.000000  98.000000     98.000000  \n",
              "mean   48.645918  -0.005102   0.000918  24239.857143  \n",
              "std     9.812481  19.992506   0.551414  14874.171842  \n",
              "min    26.800000 -40.400000  -1.090000   5870.000000  \n",
              "25%    41.300000 -13.575000  -0.365000  12355.500000  \n",
              "50%    47.750000  -1.100000  -0.030000  20491.000000  \n",
              "75%    54.700000  12.800000   0.355000  32382.000000  \n",
              "max    73.300000  59.300000   1.600000  73150.000000  "
            ],
            "text/html": [
              "\n",
              "  <div id=\"df-adea2aa1-5571-4a84-9a7e-b81c5d743220\">\n",
              "    <div class=\"colab-df-container\">\n",
              "      <div>\n",
              "<style scoped>\n",
              "    .dataframe tbody tr th:only-of-type {\n",
              "        vertical-align: middle;\n",
              "    }\n",
              "\n",
              "    .dataframe tbody tr th {\n",
              "        vertical-align: top;\n",
              "    }\n",
              "\n",
              "    .dataframe thead th {\n",
              "        text-align: right;\n",
              "    }\n",
              "</style>\n",
              "<table border=\"1\" class=\"dataframe\">\n",
              "  <thead>\n",
              "    <tr style=\"text-align: right;\">\n",
              "      <th></th>\n",
              "      <th>Rk</th>\n",
              "      <th>LgRk</th>\n",
              "      <th>MP</th>\n",
              "      <th>W</th>\n",
              "      <th>D</th>\n",
              "      <th>L</th>\n",
              "      <th>GF</th>\n",
              "      <th>GA</th>\n",
              "      <th>GD</th>\n",
              "      <th>Pts</th>\n",
              "      <th>Pts/G</th>\n",
              "      <th>xG</th>\n",
              "      <th>xGA</th>\n",
              "      <th>xGD</th>\n",
              "      <th>xGD/90</th>\n",
              "      <th>Attendance</th>\n",
              "    </tr>\n",
              "  </thead>\n",
              "  <tbody>\n",
              "    <tr>\n",
              "      <th>count</th>\n",
              "      <td>98.000000</td>\n",
              "      <td>98.000000</td>\n",
              "      <td>98.000000</td>\n",
              "      <td>98.000000</td>\n",
              "      <td>98.000000</td>\n",
              "      <td>98.00000</td>\n",
              "      <td>98.000000</td>\n",
              "      <td>98.000000</td>\n",
              "      <td>98.000000</td>\n",
              "      <td>98.000000</td>\n",
              "      <td>98.000000</td>\n",
              "      <td>98.000000</td>\n",
              "      <td>98.000000</td>\n",
              "      <td>98.000000</td>\n",
              "      <td>98.000000</td>\n",
              "      <td>98.000000</td>\n",
              "    </tr>\n",
              "    <tr>\n",
              "      <th>mean</th>\n",
              "      <td>49.500000</td>\n",
              "      <td>10.316327</td>\n",
              "      <td>36.306122</td>\n",
              "      <td>13.448980</td>\n",
              "      <td>9.408163</td>\n",
              "      <td>13.44898</td>\n",
              "      <td>50.877551</td>\n",
              "      <td>50.877551</td>\n",
              "      <td>0.000000</td>\n",
              "      <td>49.734694</td>\n",
              "      <td>1.370204</td>\n",
              "      <td>48.653061</td>\n",
              "      <td>48.645918</td>\n",
              "      <td>-0.005102</td>\n",
              "      <td>0.000918</td>\n",
              "      <td>24239.857143</td>\n",
              "    </tr>\n",
              "    <tr>\n",
              "      <th>std</th>\n",
              "      <td>28.434134</td>\n",
              "      <td>5.706926</td>\n",
              "      <td>1.152390</td>\n",
              "      <td>5.747474</td>\n",
              "      <td>2.903381</td>\n",
              "      <td>5.12347</td>\n",
              "      <td>16.102933</td>\n",
              "      <td>13.634602</td>\n",
              "      <td>26.501896</td>\n",
              "      <td>16.166371</td>\n",
              "      <td>0.443903</td>\n",
              "      <td>12.453950</td>\n",
              "      <td>9.812481</td>\n",
              "      <td>19.992506</td>\n",
              "      <td>0.551414</td>\n",
              "      <td>14874.171842</td>\n",
              "    </tr>\n",
              "    <tr>\n",
              "      <th>min</th>\n",
              "      <td>1.000000</td>\n",
              "      <td>1.000000</td>\n",
              "      <td>34.000000</td>\n",
              "      <td>3.000000</td>\n",
              "      <td>3.000000</td>\n",
              "      <td>2.00000</td>\n",
              "      <td>23.000000</td>\n",
              "      <td>24.000000</td>\n",
              "      <td>-56.000000</td>\n",
              "      <td>18.000000</td>\n",
              "      <td>0.530000</td>\n",
              "      <td>28.200000</td>\n",
              "      <td>26.800000</td>\n",
              "      <td>-40.400000</td>\n",
              "      <td>-1.090000</td>\n",
              "      <td>5870.000000</td>\n",
              "    </tr>\n",
              "    <tr>\n",
              "      <th>25%</th>\n",
              "      <td>25.250000</td>\n",
              "      <td>5.250000</td>\n",
              "      <td>36.000000</td>\n",
              "      <td>9.000000</td>\n",
              "      <td>7.000000</td>\n",
              "      <td>10.00000</td>\n",
              "      <td>39.000000</td>\n",
              "      <td>40.000000</td>\n",
              "      <td>-17.750000</td>\n",
              "      <td>37.000000</td>\n",
              "      <td>1.000000</td>\n",
              "      <td>39.100000</td>\n",
              "      <td>41.300000</td>\n",
              "      <td>-13.575000</td>\n",
              "      <td>-0.365000</td>\n",
              "      <td>12355.500000</td>\n",
              "    </tr>\n",
              "    <tr>\n",
              "      <th>50%</th>\n",
              "      <td>49.500000</td>\n",
              "      <td>10.000000</td>\n",
              "      <td>37.000000</td>\n",
              "      <td>13.000000</td>\n",
              "      <td>9.000000</td>\n",
              "      <td>13.00000</td>\n",
              "      <td>47.000000</td>\n",
              "      <td>50.000000</td>\n",
              "      <td>-1.000000</td>\n",
              "      <td>46.000000</td>\n",
              "      <td>1.300000</td>\n",
              "      <td>46.450000</td>\n",
              "      <td>47.750000</td>\n",
              "      <td>-1.100000</td>\n",
              "      <td>-0.030000</td>\n",
              "      <td>20491.000000</td>\n",
              "    </tr>\n",
              "    <tr>\n",
              "      <th>75%</th>\n",
              "      <td>73.750000</td>\n",
              "      <td>15.000000</td>\n",
              "      <td>37.000000</td>\n",
              "      <td>17.000000</td>\n",
              "      <td>11.000000</td>\n",
              "      <td>17.00000</td>\n",
              "      <td>60.000000</td>\n",
              "      <td>59.000000</td>\n",
              "      <td>17.250000</td>\n",
              "      <td>61.750000</td>\n",
              "      <td>1.695000</td>\n",
              "      <td>55.550000</td>\n",
              "      <td>54.700000</td>\n",
              "      <td>12.800000</td>\n",
              "      <td>0.355000</td>\n",
              "      <td>32382.000000</td>\n",
              "    </tr>\n",
              "    <tr>\n",
              "      <th>max</th>\n",
              "      <td>98.000000</td>\n",
              "      <td>20.000000</td>\n",
              "      <td>37.000000</td>\n",
              "      <td>28.000000</td>\n",
              "      <td>16.000000</td>\n",
              "      <td>26.00000</td>\n",
              "      <td>97.000000</td>\n",
              "      <td>89.000000</td>\n",
              "      <td>72.000000</td>\n",
              "      <td>90.000000</td>\n",
              "      <td>2.430000</td>\n",
              "      <td>88.100000</td>\n",
              "      <td>73.300000</td>\n",
              "      <td>59.300000</td>\n",
              "      <td>1.600000</td>\n",
              "      <td>73150.000000</td>\n",
              "    </tr>\n",
              "  </tbody>\n",
              "</table>\n",
              "</div>\n",
              "      <button class=\"colab-df-convert\" onclick=\"convertToInteractive('df-adea2aa1-5571-4a84-9a7e-b81c5d743220')\"\n",
              "              title=\"Convert this dataframe to an interactive table.\"\n",
              "              style=\"display:none;\">\n",
              "        \n",
              "  <svg xmlns=\"http://www.w3.org/2000/svg\" height=\"24px\"viewBox=\"0 0 24 24\"\n",
              "       width=\"24px\">\n",
              "    <path d=\"M0 0h24v24H0V0z\" fill=\"none\"/>\n",
              "    <path d=\"M18.56 5.44l.94 2.06.94-2.06 2.06-.94-2.06-.94-.94-2.06-.94 2.06-2.06.94zm-11 1L8.5 8.5l.94-2.06 2.06-.94-2.06-.94L8.5 2.5l-.94 2.06-2.06.94zm10 10l.94 2.06.94-2.06 2.06-.94-2.06-.94-.94-2.06-.94 2.06-2.06.94z\"/><path d=\"M17.41 7.96l-1.37-1.37c-.4-.4-.92-.59-1.43-.59-.52 0-1.04.2-1.43.59L10.3 9.45l-7.72 7.72c-.78.78-.78 2.05 0 2.83L4 21.41c.39.39.9.59 1.41.59.51 0 1.02-.2 1.41-.59l7.78-7.78 2.81-2.81c.8-.78.8-2.07 0-2.86zM5.41 20L4 18.59l7.72-7.72 1.47 1.35L5.41 20z\"/>\n",
              "  </svg>\n",
              "      </button>\n",
              "      \n",
              "  <style>\n",
              "    .colab-df-container {\n",
              "      display:flex;\n",
              "      flex-wrap:wrap;\n",
              "      gap: 12px;\n",
              "    }\n",
              "\n",
              "    .colab-df-convert {\n",
              "      background-color: #E8F0FE;\n",
              "      border: none;\n",
              "      border-radius: 50%;\n",
              "      cursor: pointer;\n",
              "      display: none;\n",
              "      fill: #1967D2;\n",
              "      height: 32px;\n",
              "      padding: 0 0 0 0;\n",
              "      width: 32px;\n",
              "    }\n",
              "\n",
              "    .colab-df-convert:hover {\n",
              "      background-color: #E2EBFA;\n",
              "      box-shadow: 0px 1px 2px rgba(60, 64, 67, 0.3), 0px 1px 3px 1px rgba(60, 64, 67, 0.15);\n",
              "      fill: #174EA6;\n",
              "    }\n",
              "\n",
              "    [theme=dark] .colab-df-convert {\n",
              "      background-color: #3B4455;\n",
              "      fill: #D2E3FC;\n",
              "    }\n",
              "\n",
              "    [theme=dark] .colab-df-convert:hover {\n",
              "      background-color: #434B5C;\n",
              "      box-shadow: 0px 1px 3px 1px rgba(0, 0, 0, 0.15);\n",
              "      filter: drop-shadow(0px 1px 2px rgba(0, 0, 0, 0.3));\n",
              "      fill: #FFFFFF;\n",
              "    }\n",
              "  </style>\n",
              "\n",
              "      <script>\n",
              "        const buttonEl =\n",
              "          document.querySelector('#df-adea2aa1-5571-4a84-9a7e-b81c5d743220 button.colab-df-convert');\n",
              "        buttonEl.style.display =\n",
              "          google.colab.kernel.accessAllowed ? 'block' : 'none';\n",
              "\n",
              "        async function convertToInteractive(key) {\n",
              "          const element = document.querySelector('#df-adea2aa1-5571-4a84-9a7e-b81c5d743220');\n",
              "          const dataTable =\n",
              "            await google.colab.kernel.invokeFunction('convertToInteractive',\n",
              "                                                     [key], {});\n",
              "          if (!dataTable) return;\n",
              "\n",
              "          const docLinkHtml = 'Like what you see? Visit the ' +\n",
              "            '<a target=\"_blank\" href=https://colab.research.google.com/notebooks/data_table.ipynb>data table notebook</a>'\n",
              "            + ' to learn more about interactive tables.';\n",
              "          element.innerHTML = '';\n",
              "          dataTable['output_type'] = 'display_data';\n",
              "          await google.colab.output.renderOutput(dataTable, element);\n",
              "          const docLink = document.createElement('div');\n",
              "          docLink.innerHTML = docLinkHtml;\n",
              "          element.appendChild(docLink);\n",
              "        }\n",
              "      </script>\n",
              "    </div>\n",
              "  </div>\n",
              "  "
            ]
          },
          "metadata": {},
          "execution_count": 20
        }
      ]
    },
    {
      "cell_type": "code",
      "source": [
        ""
      ],
      "metadata": {
        "id": "wCfWSErLvI68"
      },
      "execution_count": 16,
      "outputs": []
    },
    {
      "cell_type": "markdown",
      "source": [
        "APIS\n",
        "https://github.com/aina1997/MasterClassDS/blob/main/API_Python/API_Rest_%2B_Python.ipynb"
      ],
      "metadata": {
        "id": "YjEouSksFC-O"
      }
    }
  ]
}